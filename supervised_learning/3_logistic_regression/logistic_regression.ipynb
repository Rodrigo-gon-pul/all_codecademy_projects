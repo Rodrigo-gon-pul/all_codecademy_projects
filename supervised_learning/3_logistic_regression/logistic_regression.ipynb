{
 "cells": [
  {
   "cell_type": "markdown",
   "metadata": {},
   "source": [
    "# Predicting Credit Card Fraud"
   ]
  },
  {
   "cell_type": "code",
   "execution_count": 36,
   "metadata": {},
   "outputs": [],
   "source": [
    "import seaborn\n",
    "import pandas as pd\n",
    "import numpy as np\n",
    "import matplotlib.pyplot as plt\n",
    "from sklearn.linear_model import LogisticRegression\n",
    "from sklearn.model_selection import train_test_split\n",
    "from sklearn.preprocessing import StandardScaler"
   ]
  },
  {
   "cell_type": "code",
   "execution_count": 37,
   "metadata": {},
   "outputs": [
    {
     "name": "stdout",
     "output_type": "stream",
     "text": [
      "   step      type     amount     nameOrig  oldbalanceOrg  newbalanceOrig  \\\n",
      "0     8  CASH_OUT  158007.12   C424875646           0.00            0.00   \n",
      "1   236  CASH_OUT  457948.30  C1342616552           0.00            0.00   \n",
      "2    37   CASH_IN  153602.99   C900876541    11160428.67     11314031.67   \n",
      "3   331  CASH_OUT   49555.14   C177696810       10865.00            0.00   \n",
      "4   250  CASH_OUT   29648.02   C788941490           0.00            0.00   \n",
      "\n",
      "      nameDest  oldbalanceDest  newbalanceDest  isFraud  \n",
      "0  C1298177219       474016.32      1618631.97        0  \n",
      "1  C1323169990      2720411.37      3178359.67        0  \n",
      "2   C608741097      3274930.56      3121327.56        0  \n",
      "3   C462716348            0.00        49555.14        0  \n",
      "4  C1971700992        56933.09        86581.10        0  \n",
      "step              199999\n",
      "type              199999\n",
      "amount            199999\n",
      "nameOrig          199999\n",
      "oldbalanceOrg     199999\n",
      "newbalanceOrig    199999\n",
      "nameDest          199999\n",
      "oldbalanceDest    199999\n",
      "newbalanceDest    199999\n",
      "isFraud           199999\n",
      "dtype: int64\n"
     ]
    }
   ],
   "source": [
    "# Load the data and explore\n",
    "transactions = pd.read_csv('transactions.csv')\n",
    "print(transactions.head())\n",
    "print(transactions.count())"
   ]
  },
  {
   "cell_type": "markdown",
   "metadata": {},
   "source": []
  },
  {
   "cell_type": "markdown",
   "metadata": {},
   "source": [
    "There are a few interesting columns to look at. We know that the amount of a given transaction is going to be important."
   ]
  },
  {
   "cell_type": "code",
   "execution_count": 38,
   "metadata": {},
   "outputs": [
    {
     "data": {
      "text/plain": [
       "count    1.999990e+05\n",
       "mean     1.802425e+05\n",
       "std      6.255482e+05\n",
       "min      0.000000e+00\n",
       "25%      1.338746e+04\n",
       "50%      7.426695e+04\n",
       "75%      2.086376e+05\n",
       "max      5.204280e+07\n",
       "Name: amount, dtype: float64"
      ]
     },
     "execution_count": 38,
     "metadata": {},
     "output_type": "execute_result"
    }
   ],
   "source": [
    "# Summary statistics on amount column\n",
    "transactions['amount'].describe()"
   ]
  },
  {
   "cell_type": "code",
   "execution_count": 39,
   "metadata": {},
   "outputs": [
    {
     "name": "stderr",
     "output_type": "stream",
     "text": [
      "C:\\Users\\Usuario\\AppData\\Local\\Temp/ipykernel_16908/3636473163.py:3: SettingWithCopyWarning: \n",
      "A value is trying to be set on a copy of a slice from a DataFrame\n",
      "\n",
      "See the caveats in the documentation: https://pandas.pydata.org/pandas-docs/stable/user_guide/indexing.html#returning-a-view-versus-a-copy\n",
      "  transactions['isPayment'][transactions['type'].isin(['PAYMENT','DEBIT'])] = 1\n",
      "C:\\Users\\Usuario\\AppData\\Local\\Temp/ipykernel_16908/3636473163.py:7: SettingWithCopyWarning: \n",
      "A value is trying to be set on a copy of a slice from a DataFrame\n",
      "\n",
      "See the caveats in the documentation: https://pandas.pydata.org/pandas-docs/stable/user_guide/indexing.html#returning-a-view-versus-a-copy\n",
      "  transactions['isMovement'][transactions['type'].isin(['CASH_OUT', 'TRANSFER'])] = 1\n"
     ]
    }
   ],
   "source": [
    "# Create isPayment field\n",
    "transactions['isPayment'] = 0\n",
    "transactions['isPayment'][transactions['type'].isin(['PAYMENT','DEBIT'])] = 1\n",
    "\n",
    "# Create isMovement field\n",
    "transactions['isMovement'] = 0\n",
    "transactions['isMovement'][transactions['type'].isin(['CASH_OUT', 'TRANSFER'])] = 1\n",
    "\n",
    "# Create accountDiff field\n",
    "transactions['accountDiff'] = abs(transactions['oldbalanceDest'] - transactions['oldbalanceOrg'])"
   ]
  },
  {
   "cell_type": "markdown",
   "metadata": {},
   "source": [
    "With financial fraud, another key factor to investigate would be the difference in value between the origin and destination account.   \n",
    "Our theory, in this case, being that <u>destination accounts with a significantly different value could be suspect of fraud</u>."
   ]
  },
  {
   "cell_type": "code",
   "execution_count": 40,
   "metadata": {},
   "outputs": [],
   "source": [
    "# Create features and label variables\n",
    "features = transactions[['amount','isPayment','isMovement','accountDiff']]\n",
    "label = transactions['isFraud']\n",
    "\n",
    "# Split dataset\n",
    "X_train, X_test, y_train, y_test = train_test_split(features, label, test_size=0.3)"
   ]
  },
  {
   "cell_type": "code",
   "execution_count": 41,
   "metadata": {},
   "outputs": [],
   "source": [
    "# Normalize the features variables\n",
    "scaler = StandardScaler()\n",
    "X_train = scaler.fit_transform(X_train)\n",
    "X_test = scaler.transform(X_test)"
   ]
  },
  {
   "cell_type": "code",
   "execution_count": 42,
   "metadata": {},
   "outputs": [
    {
     "name": "stdout",
     "output_type": "stream",
     "text": [
      "0.9985642754591104\n"
     ]
    }
   ],
   "source": [
    "# Fit the model to the training data\n",
    "model = LogisticRegression()\n",
    "model.fit(X_train, y_train)\n",
    "\n",
    "# Score the model on the training data\n",
    "print(model.score(X_train, y_train))"
   ]
  },
  {
   "cell_type": "code",
   "execution_count": 43,
   "metadata": {},
   "outputs": [
    {
     "name": "stdout",
     "output_type": "stream",
     "text": [
      "0.9986\n"
     ]
    }
   ],
   "source": [
    "# Score the model on the test data\n",
    "print(model.score(X_test, y_test))"
   ]
  },
  {
   "cell_type": "code",
   "execution_count": 44,
   "metadata": {},
   "outputs": [
    {
     "name": "stdout",
     "output_type": "stream",
     "text": [
      "[[ 0.25301337 -0.74797178  2.25524186 -0.80314006]]\n"
     ]
    }
   ],
   "source": [
    "# Print the model coefficients\n",
    "print(model.coef_)"
   ]
  },
  {
   "cell_type": "markdown",
   "metadata": {},
   "source": [
    "## Predict With the Model\n"
   ]
  },
  {
   "cell_type": "code",
   "execution_count": 50,
   "metadata": {},
   "outputs": [
    {
     "name": "stderr",
     "output_type": "stream",
     "text": [
      "c:\\Users\\Usuario\\AppData\\Local\\Programs\\Python\\Python39\\lib\\site-packages\\sklearn\\base.py:450: UserWarning: X does not have valid feature names, but StandardScaler was fitted with feature names\n",
      "  warnings.warn(\n"
     ]
    }
   ],
   "source": [
    "# New transaction data\n",
    "transaction1 = np.array([123456.78, 0.0, 1.0, 54670.1])\n",
    "transaction2 = np.array([98765.43, 1.0, 0.0, 8524.75])\n",
    "transaction3 = np.array([543678.31, 0.0, 1.0, 5625.5])\n",
    "transaction4 = np.array([61472.54, 1.0, 0.0, 565901.23])\n",
    "\n",
    "# Combine new transactions into a single array\n",
    "sample_transactions = np.stack((transaction1,transaction2,transaction3,transaction4))\n",
    "\n",
    "# Normalize the new transactions\n",
    "sample_transactions = scaler.transform(sample_transactions)"
   ]
  },
  {
   "cell_type": "code",
   "execution_count": 51,
   "metadata": {},
   "outputs": [
    {
     "name": "stdout",
     "output_type": "stream",
     "text": [
      "[0 0 0 0]\n"
     ]
    }
   ],
   "source": [
    "# Predict fraud on the new transactions\n",
    "print(model.predict(sample_transactions))"
   ]
  },
  {
   "cell_type": "code",
   "execution_count": 52,
   "metadata": {},
   "outputs": [
    {
     "name": "stdout",
     "output_type": "stream",
     "text": [
      "[[9.96477842e-01 3.52215815e-03]\n",
      " [9.99992243e-01 7.75712215e-06]\n",
      " [9.95774663e-01 4.22533680e-03]\n",
      " [9.99993186e-01 6.81355072e-06]]\n"
     ]
    }
   ],
   "source": [
    "# Show probabilities on the new transactions\n",
    "print(model.predict_proba(sample_transactions))"
   ]
  },
  {
   "cell_type": "markdown",
   "metadata": {},
   "source": [
    "The 1st column is the probability of a transaction not being fraudulent, and the 2nd column is the probability of a transaction being fraudulent (which was calculated by our model to make the final classification decision)."
   ]
  },
  {
   "cell_type": "markdown",
   "metadata": {},
   "source": [
    "**Looks like there is probably no fraudulent transaction in this stack**"
   ]
  }
 ],
 "metadata": {
  "kernelspec": {
   "display_name": "Python 3.9.6 64-bit",
   "language": "python",
   "name": "python3"
  },
  "language_info": {
   "codemirror_mode": {
    "name": "ipython",
    "version": 3
   },
   "file_extension": ".py",
   "mimetype": "text/x-python",
   "name": "python",
   "nbconvert_exporter": "python",
   "pygments_lexer": "ipython3",
   "version": "3.9.6"
  },
  "orig_nbformat": 4,
  "vscode": {
   "interpreter": {
    "hash": "4a642a9a94d05d387b7a27be99b5a4ff6656c8c24931cc81c2f78dd14cfb5dc8"
   }
  }
 },
 "nbformat": 4,
 "nbformat_minor": 2
}
