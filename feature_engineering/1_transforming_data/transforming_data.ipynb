{
 "cells": [
  {
   "cell_type": "code",
   "execution_count": 26,
   "metadata": {},
   "outputs": [],
   "source": [
    "import pandas as pd\n",
    "import numpy as np\n",
    "from sklearn.preprocessing import StandardScaler"
   ]
  },
  {
   "cell_type": "code",
   "execution_count": 27,
   "metadata": {},
   "outputs": [],
   "source": [
    "# import data\n",
    "reviews = pd.read_csv('reviews.csv')"
   ]
  },
  {
   "cell_type": "code",
   "execution_count": 28,
   "metadata": {},
   "outputs": [
    {
     "name": "stdout",
     "output_type": "stream",
     "text": [
      "<class 'pandas.core.frame.DataFrame'>\n",
      "RangeIndex: 5000 entries, 0 to 4999\n",
      "Data columns (total 9 columns):\n",
      " #   Column           Non-Null Count  Dtype \n",
      "---  ------           --------------  ----- \n",
      " 0   clothing_id      5000 non-null   int64 \n",
      " 1   age              5000 non-null   int64 \n",
      " 2   review_title     4174 non-null   object\n",
      " 3   review_text      4804 non-null   object\n",
      " 4   recommended      5000 non-null   bool  \n",
      " 5   division_name    4996 non-null   object\n",
      " 6   department_name  4996 non-null   object\n",
      " 7   review_date      5000 non-null   object\n",
      " 8   rating           5000 non-null   object\n",
      "dtypes: bool(1), int64(2), object(6)\n",
      "memory usage: 317.5+ KB\n",
      "None\n"
     ]
    }
   ],
   "source": [
    "# print dataframe info\n",
    "print(reviews.info())"
   ]
  },
  {
   "cell_type": "code",
   "execution_count": 29,
   "metadata": {},
   "outputs": [
    {
     "name": "stdout",
     "output_type": "stream",
     "text": [
      "   clothing_id  age                review_title  \\\n",
      "0         1095   39  Cute,looks like a dress on   \n",
      "1         1095   28       So cute, great print!   \n",
      "2          699   37              So flattering!   \n",
      "3         1072   36                  Effortless   \n",
      "4         1094   32              You need this!   \n",
      "\n",
      "                                         review_text  recommended  \\\n",
      "0  If you are afraid of the jumpsuit trend but li...         True   \n",
      "1  I love fitted top dresses like this but i find...         True   \n",
      "2  I love these cozy, fashionable leggings. they ...         True   \n",
      "3  Another reviewer said it best, \"i love the way...         True   \n",
      "4  Rompers are my fav so i'm biased writing this ...         True   \n",
      "\n",
      "    division_name department_name review_date    rating  \n",
      "0         General         Dresses  2019-07-08  Liked it  \n",
      "1         General         Dresses  2019-05-17  Loved it  \n",
      "2       Initmates        Intimate  2019-06-24  Loved it  \n",
      "3  General Petite         Dresses  2019-12-06  Loved it  \n",
      "4         General         Dresses  2019-10-04  Loved it  \n"
     ]
    }
   ],
   "source": [
    "# print dataframe head\n",
    "print(reviews.head())"
   ]
  },
  {
   "cell_type": "markdown",
   "metadata": {},
   "source": [
    "\n",
    "##### Transform the 'recommended' feature"
   ]
  },
  {
   "cell_type": "code",
   "execution_count": 30,
   "metadata": {},
   "outputs": [
    {
     "name": "stdout",
     "output_type": "stream",
     "text": [
      "True     4166\n",
      "False     834\n",
      "Name: recommended, dtype: int64\n"
     ]
    }
   ],
   "source": [
    "print(reviews['recommended'].value_counts())\n"
   ]
  },
  {
   "cell_type": "markdown",
   "metadata": {},
   "source": [
    "\n",
    "Since this is a True/False feature, we want to transform it to 1 for True and 0 for False."
   ]
  },
  {
   "cell_type": "code",
   "execution_count": 31,
   "metadata": {},
   "outputs": [],
   "source": [
    "binary_dict = {True:0 , False:1}\n",
    "reviews['recomended'] = reviews['recommended'].map(binary_dict)"
   ]
  },
  {
   "cell_type": "markdown",
   "metadata": {},
   "source": [
    "##### Transform the 'rating' feature"
   ]
  },
  {
   "cell_type": "markdown",
   "metadata": {},
   "source": [
    "\n",
    "We want to make the following changes to the values:\n",
    "\n",
    "‘Loved it’ → 5  \n",
    "‘Liked it’ → 4  \n",
    "‘Was okay’ → 3  \n",
    "‘Not great’ → 2  \n",
    "‘Hated it’ → 1"
   ]
  },
  {
   "cell_type": "code",
   "execution_count": 32,
   "metadata": {},
   "outputs": [],
   "source": [
    "rating_dict = {'Loved it':5 , 'Liked it':4, 'Was okay':3, 'Not great':2, 'Hated it':1}\n",
    "reviews['rating'] = reviews['rating'].map(rating_dict)\n"
   ]
  },
  {
   "cell_type": "markdown",
   "metadata": {},
   "source": [
    "##### One-hot enconde the 'department_name' feature"
   ]
  },
  {
   "cell_type": "code",
   "execution_count": 33,
   "metadata": {},
   "outputs": [
    {
     "name": "stdout",
     "output_type": "stream",
     "text": [
      "Tops        2196\n",
      "Dresses     1322\n",
      "Bottoms      848\n",
      "Intimate     378\n",
      "Jackets      224\n",
      "Trend         28\n",
      "Name: department_name, dtype: int64\n"
     ]
    }
   ],
   "source": [
    "print(reviews['department_name'].value_counts())\n"
   ]
  },
  {
   "cell_type": "code",
   "execution_count": 34,
   "metadata": {},
   "outputs": [
    {
     "name": "stdout",
     "output_type": "stream",
     "text": [
      "      Bottoms  Dresses  Intimate  Jackets  Tops  Trend\n",
      "0           0        1         0        0     0      0\n",
      "1           0        1         0        0     0      0\n",
      "2           0        0         1        0     0      0\n",
      "3           0        1         0        0     0      0\n",
      "4           0        1         0        0     0      0\n",
      "...       ...      ...       ...      ...   ...    ...\n",
      "4995        0        0         0        0     1      0\n",
      "4996        0        0         0        0     1      0\n",
      "4997        0        1         0        0     0      0\n",
      "4998        1        0         0        0     0      0\n",
      "4999        0        0         0        0     1      0\n",
      "\n",
      "[5000 rows x 6 columns]\n"
     ]
    }
   ],
   "source": [
    "one_hot = pd.get_dummies(reviews['department_name'])\n",
    "print(one_hot)\n"
   ]
  },
  {
   "cell_type": "code",
   "execution_count": 35,
   "metadata": {},
   "outputs": [
    {
     "name": "stdout",
     "output_type": "stream",
     "text": [
      "Index(['clothing_id', 'age', 'review_title', 'review_text', 'recommended',\n",
      "       'division_name', 'department_name', 'review_date', 'rating',\n",
      "       'recomended', 'Bottoms', 'Dresses', 'Intimate', 'Jackets', 'Tops',\n",
      "       'Trend'],\n",
      "      dtype='object')\n"
     ]
    }
   ],
   "source": [
    "reviews = reviews.join(one_hot)\n",
    "print(reviews.columns)\n"
   ]
  },
  {
   "cell_type": "markdown",
   "metadata": {},
   "source": [
    "##### Transform 'review_date' feature type"
   ]
  },
  {
   "cell_type": "code",
   "execution_count": 36,
   "metadata": {},
   "outputs": [
    {
     "name": "stdout",
     "output_type": "stream",
     "text": [
      "datetime64[ns]\n"
     ]
    }
   ],
   "source": [
    "reviews['review_date'] = pd.to_datetime(reviews['review_date'])\n",
    " \n",
    "print(reviews['review_date'].dtype)"
   ]
  },
  {
   "cell_type": "markdown",
   "metadata": {},
   "source": [
    "##### Scaling data\n",
    "We notice that we have a wide range of numbers thus far, so it is best to put everything on the same scale."
   ]
  },
  {
   "cell_type": "code",
   "execution_count": 37,
   "metadata": {},
   "outputs": [
    {
     "data": {
      "text/plain": [
       "array([[-0.34814459,  0.44742824, -0.1896478 , ..., -0.21656679,\n",
       "        -0.88496718, -0.07504356],\n",
       "       [-1.24475223,  0.44742824,  0.71602461, ..., -0.21656679,\n",
       "        -0.88496718, -0.07504356],\n",
       "       [-0.51116416,  0.44742824,  0.71602461, ..., -0.21656679,\n",
       "        -0.88496718, -0.07504356],\n",
       "       ...,\n",
       "       [-0.59267395,  0.44742824,  0.71602461, ..., -0.21656679,\n",
       "        -0.88496718, -0.07504356],\n",
       "       [-1.24475223,  0.44742824,  0.71602461, ..., -0.21656679,\n",
       "        -0.88496718, -0.07504356],\n",
       "       [ 1.68960003,  0.44742824,  0.71602461, ..., -0.21656679,\n",
       "         1.12998541, -0.07504356]])"
      ]
     },
     "execution_count": 37,
     "metadata": {},
     "output_type": "execute_result"
    }
   ],
   "source": [
    "reviews = reviews[['clothing_id', 'age', 'recommended', 'rating', 'Bottoms', 'Dresses', 'Intimate', 'Jackets', 'Tops', 'Trend']].copy()\n",
    "reviews = reviews.set_index('clothing_id')\n",
    "\n",
    "scaler = StandardScaler()\n",
    "scaler.fit_transform(reviews)\n"
   ]
  }
 ],
 "metadata": {
  "kernelspec": {
   "display_name": "Python 3.9.6 64-bit",
   "language": "python",
   "name": "python3"
  },
  "language_info": {
   "codemirror_mode": {
    "name": "ipython",
    "version": 3
   },
   "file_extension": ".py",
   "mimetype": "text/x-python",
   "name": "python",
   "nbconvert_exporter": "python",
   "pygments_lexer": "ipython3",
   "version": "3.9.6"
  },
  "orig_nbformat": 4,
  "vscode": {
   "interpreter": {
    "hash": "4a642a9a94d05d387b7a27be99b5a4ff6656c8c24931cc81c2f78dd14cfb5dc8"
   }
  }
 },
 "nbformat": 4,
 "nbformat_minor": 2
}
