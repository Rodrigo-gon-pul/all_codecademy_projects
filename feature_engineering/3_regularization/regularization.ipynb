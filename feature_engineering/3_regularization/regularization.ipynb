{
 "cells": [
  {
   "cell_type": "markdown",
   "metadata": {},
   "source": [
    "# Predict Wine Quality with Regularization"
   ]
  },
  {
   "cell_type": "code",
   "execution_count": 17,
   "metadata": {},
   "outputs": [],
   "source": [
    "import numpy as np\n",
    "import pandas as pd\n",
    "import matplotlib.pyplot as plt\n",
    "import seaborn as sns\n",
    "from sklearn.preprocessing import StandardScaler\n",
    "from sklearn.model_selection import train_test_split\n",
    "from sklearn.linear_model import LogisticRegression\n"
   ]
  },
  {
   "cell_type": "markdown",
   "metadata": {},
   "source": [
    "## Logistic Regression Classifier without Regularization"
   ]
  },
  {
   "cell_type": "code",
   "execution_count": 18,
   "metadata": {},
   "outputs": [
    {
     "name": "stdout",
     "output_type": "stream",
     "text": [
      "Index(['fixed acidity', 'volatile acidity', 'citric acid', 'residual sugar',\n",
      "       'chlorides', 'free sulfur dioxide', 'total sulfur dioxide', 'density',\n",
      "       'pH', 'sulphates', 'alcohol', 'quality'],\n",
      "      dtype='object')\n"
     ]
    }
   ],
   "source": [
    "df = pd.read_csv('wine_quality.csv')\n",
    "print(df.columns)\n",
    "wine_quality = df['quality']\n",
    "features = df.drop(columns = ['quality'])"
   ]
  },
  {
   "cell_type": "code",
   "execution_count": 19,
   "metadata": {},
   "outputs": [],
   "source": [
    "# Standardize features by removing the mean and scaling to unit variance.\n",
    "standard_scaler_fit = StandardScaler().fit(features)\n",
    "wine_features = standard_scaler_fit.transform(features)"
   ]
  },
  {
   "cell_type": "code",
   "execution_count": 20,
   "metadata": {},
   "outputs": [],
   "source": [
    "# Perform an 80:20 train-test split on the data. Set the random_state to 99 for reproducibility.\n",
    "wf_train, wf_test, wc_train, wc_test = train_test_split(wine_features, wine_quality, test_size=0.2, random_state=99)"
   ]
  },
  {
   "cell_type": "code",
   "execution_count": 21,
   "metadata": {},
   "outputs": [
    {
     "data": {
      "text/plain": [
       "LogisticRegression(penalty='none')"
      ]
     },
     "execution_count": 21,
     "metadata": {},
     "output_type": "execute_result"
    }
   ],
   "source": [
    "# Define a classifier, clf_no_reg, a logistic regression model without regularization and fit it to the training data.\n",
    "clf_no_reg = LogisticRegression(penalty = 'none')\n",
    "clf_no_reg.fit(wf_train, wc_train)"
   ]
  },
  {
   "cell_type": "code",
   "execution_count": 22,
   "metadata": {},
   "outputs": [
    {
     "data": {
      "image/png": "[encoded data removed]",
      "text/plain": [
       "<Figure size 432x288 with 1 Axes>"
      ]
     },
     "metadata": {
      "needs_background": "light"
     },
     "output_type": "display_data"
    },
    {
     "data": {
      "text/plain": [
       "<Figure size 432x288 with 0 Axes>"
      ]
     },
     "metadata": {},
     "output_type": "display_data"
    }
   ],
   "source": [
    "# Plotting the coefficients obtained from fitting the Logistic Regression model.\n",
    "predictors = features.columns\n",
    "coefficients = clf_no_reg.coef_.ravel()\n",
    "coef = pd.Series(coefficients, predictors).sort_values()\n",
    "coef.plot(kind='bar', title='Coefficients (no regularization)')\n",
    "plt.tight_layout()\n",
    "plt.show()\n",
    "plt.clf()"
   ]
  },
  {
   "cell_type": "code",
   "execution_count": 25,
   "metadata": {},
   "outputs": [
    {
     "name": "stdout",
     "output_type": "stream",
     "text": [
      "Training Score 0.7727598566308242\n",
      "Testing Score 0.7266666666666667\n"
     ]
    }
   ],
   "source": [
    "# f1 score, which is the weighted mean of precision and recall, captures the performance of a classifier holistically. \n",
    "# It takes values between 0 and 1 and the closer it is to 1, the better the classifier.\n",
    "from sklearn.metrics import f1_score\n",
    "wc_pred_test = clf_no_reg.predict(wf_test)\n",
    "wc_pred_train = clf_no_reg.predict(wf_train)\n",
    "print('Training Score', f1_score(wc_train, wc_pred_train))\n",
    "print('Testing Score', f1_score(wc_test, wc_pred_test))\n"
   ]
  },
  {
   "cell_type": "markdown",
   "metadata": {},
   "source": [
    "## Logistic Regression with L2 Regularization"
   ]
  },
  {
   "cell_type": "code",
   "execution_count": 26,
   "metadata": {},
   "outputs": [
    {
     "name": "stdout",
     "output_type": "stream",
     "text": [
      "Ridge-regularized Training Score 0.7727598566308242\n",
      "Ridge-regularized Testing Score 0.7266666666666667\n"
     ]
    }
   ],
   "source": [
    "# Define a classifier, clf_default, a logistic regression model with Ridge regularization and fit it to the training data.\n",
    "clf_default = LogisticRegression()\n",
    "clf_default.fit(wf_train, wc_train)\n",
    "\n",
    "wc_pred_train = clf_default.predict(wf_train)\n",
    "wc_pred_test = clf_default.predict(wf_test)\n",
    " \n",
    "print('Ridge-regularized Training Score', f1_score(wc_train, wc_pred_train))\n",
    "print('Ridge-regularized Testing Score', f1_score(wc_test, wc_pred_test))"
   ]
  },
  {
   "cell_type": "markdown",
   "metadata": {},
   "source": [
    "The scores remain the same\n",
    "This means that the constraint boundary for the regularization we performed is large enough to hold the original loss function minimum, thus rendering our model the same as the unregularized one.\n",
    "\n",
    "Let's tune up regularization strength."
   ]
  },
  {
   "cell_type": "code",
   "execution_count": 29,
   "metadata": {},
   "outputs": [],
   "source": [
    "training_array = []\n",
    "test_array = []\n",
    "C_array = [0.0001, 0.001, 0.01, 0.1, 1]\n",
    "for x in C_array:\n",
    "    clf = LogisticRegression(C = x )\n",
    "    clf.fit(wf_train, wc_train)\n",
    "    wc_pred_test = clf.predict(wf_test)\n",
    "    wc_pred_train = clf.predict(wf_train)\n",
    "    training_array.append(f1_score(wc_train, wc_pred_train))\n",
    "    test_array.append(f1_score(wc_test, wc_pred_test))"
   ]
  },
  {
   "cell_type": "code",
   "execution_count": 30,
   "metadata": {},
   "outputs": [
    {
     "data": {
      "image/png": "[encoded data removed]",
      "text/plain": [
       "<Figure size 432x288 with 1 Axes>"
      ]
     },
     "metadata": {
      "needs_background": "light"
     },
     "output_type": "display_data"
    },
    {
     "data": {
      "text/plain": [
       "<Figure size 432x288 with 0 Axes>"
      ]
     },
     "metadata": {},
     "output_type": "display_data"
    }
   ],
   "source": [
    "plt.plot(C_array, training_array)\n",
    "plt.plot(C_array, test_array)\n",
    "plt.xscale('log')\n",
    "plt.show()\n",
    "plt.clf()\n"
   ]
  },
  {
   "cell_type": "markdown",
   "metadata": {},
   "source": [
    "The optimal C seems to be somewhere around 0.001 so a <u>search window between 0.0001 and 0.01 is not a bad idea</u>."
   ]
  },
  {
   "cell_type": "markdown",
   "metadata": {},
   "source": [
    "## Hyperparameter Tuning for L2 Regularization\n",
    "Let's perform hyperparameter tuning using GridSearchCV."
   ]
  },
  {
   "cell_type": "code",
   "execution_count": 32,
   "metadata": {},
   "outputs": [],
   "source": [
    "C_array  = np.logspace(-4, -2, 100)\n",
    "#Making a dict to enter as an input to param_grid\n",
    "tuning_C = {'C':C_array}"
   ]
  },
  {
   "cell_type": "code",
   "execution_count": 34,
   "metadata": {},
   "outputs": [
    {
     "name": "stdout",
     "output_type": "stream",
     "text": [
      "{'C': 0.0019630406500402726} 0.7723336222647887\n"
     ]
    }
   ],
   "source": [
    "from sklearn.model_selection import GridSearchCV\n",
    "clf_gs = LogisticRegression()\n",
    "# Set the scoring metric to ‘f1’ and the number of folds to 5.\n",
    "gs = GridSearchCV(clf_gs, param_grid = tuning_C, scoring = 'f1', cv = 5)\n",
    "gs.fit(wf_train, wc_train) \n",
    "print(gs.best_params_, gs.best_score_)\n"
   ]
  },
  {
   "cell_type": "code",
   "execution_count": 35,
   "metadata": {},
   "outputs": [
    {
     "name": "stdout",
     "output_type": "stream",
     "text": [
      "0.7407407407407408\n"
     ]
    }
   ],
   "source": [
    "# Defining new classifier clf_best_ridge that corresponds to the best C value obtained in the previous task.\n",
    "clf_best = LogisticRegression(C = gs.best_params_['C'])\n",
    "clf_best.fit(wf_train,wc_train)\n",
    "wc_pred_best = clf_best.predict(wf_test)\n",
    "print(f1_score(wc_test,wc_pred_best))"
   ]
  },
  {
   "cell_type": "markdown",
   "metadata": {},
   "source": [
    "## Feature Selection using L1 Regularization\n",
    "We’re now going to use a grid search cross-validation method to regularize the classifier, but with L1 regularization instead."
   ]
  },
  {
   "cell_type": "code",
   "execution_count": 36,
   "metadata": {},
   "outputs": [
    {
     "data": {
      "text/plain": [
       "LogisticRegressionCV(Cs=array([1.00000000e-02, 1.09749877e-02, 1.20450354e-02, 1.32194115e-02,\n",
       "       1.45082878e-02, 1.59228279e-02, 1.74752840e-02, 1.91791026e-02,\n",
       "       2.10490414e-02, 2.31012970e-02, 2.53536449e-02, 2.78255940e-02,\n",
       "       3.05385551e-02, 3.35160265e-02, 3.67837977e-02, 4.03701726e-02,\n",
       "       4.43062146e-02, 4.86260158e-02, 5.33669923e-02, 5.85702082e-02,\n",
       "       6.42807312e-02, 7.05...\n",
       "       1.70735265e+01, 1.87381742e+01, 2.05651231e+01, 2.25701972e+01,\n",
       "       2.47707636e+01, 2.71858824e+01, 2.98364724e+01, 3.27454916e+01,\n",
       "       3.59381366e+01, 3.94420606e+01, 4.32876128e+01, 4.75081016e+01,\n",
       "       5.21400829e+01, 5.72236766e+01, 6.28029144e+01, 6.89261210e+01,\n",
       "       7.56463328e+01, 8.30217568e+01, 9.11162756e+01, 1.00000000e+02]),\n",
       "                     cv=5, penalty='l1', scoring='f1', solver='liblinear')"
      ]
     },
     "execution_count": 36,
     "metadata": {},
     "output_type": "execute_result"
    }
   ],
   "source": [
    "from sklearn.linear_model import LogisticRegressionCV\n",
    "C_array = np.logspace(-2,2,100)\n",
    "clf_l1 = LogisticRegressionCV(Cs=C_array, cv = 5, penalty = 'l1', scoring = 'f1', solver = 'liblinear')\n",
    "clf_l1.fit(features, wine_quality)"
   ]
  },
  {
   "cell_type": "code",
   "execution_count": 37,
   "metadata": {},
   "outputs": [
    {
     "name": "stdout",
     "output_type": "stream",
     "text": [
      "Best C value [32.74549163]\n",
      "Best fit coefficients [[ 0.08535985 -3.31072634 -1.26094047  0.03635881 -3.99257787  0.02276093\n",
      "  -0.01661609 -3.24642052 -0.69063364  2.71560093  0.9089266 ]]\n"
     ]
    }
   ],
   "source": [
    "print('Best C value', clf_l1.C_)\n",
    "print('Best fit coefficients', clf_l1.coef_)"
   ]
  },
  {
   "cell_type": "markdown",
   "metadata": {},
   "source": [
    "\n",
    "We can now reproduce the coefficient plot we’d produced for the unregularized scenario.\n"
   ]
  },
  {
   "cell_type": "code",
   "execution_count": 42,
   "metadata": {},
   "outputs": [
    {
     "data": {
      "image/png": "[encoded data removed]",
      "text/plain": [
       "<Figure size 864x576 with 1 Axes>"
      ]
     },
     "metadata": {
      "needs_background": "light"
     },
     "output_type": "display_data"
    },
    {
     "data": {
      "text/plain": [
       "<Figure size 432x288 with 0 Axes>"
      ]
     },
     "metadata": {},
     "output_type": "display_data"
    }
   ],
   "source": [
    "coefficients = clf_l1.coef_.ravel()\n",
    "coef = pd.Series(coefficients, predictors).sort_values()\n",
    "plt.figure(figsize = (12,8))\n",
    "coef.plot(kind='bar', title= 'coefficients for tuned L1')\n",
    "plt.tight_layout()\n",
    "plt.show()\n",
    "plt.clf()"
   ]
  }
 ],
 "metadata": {
  "kernelspec": {
   "display_name": "Python 3.9.6 64-bit",
   "language": "python",
   "name": "python3"
  },
  "language_info": {
   "codemirror_mode": {
    "name": "ipython",
    "version": 3
   },
   "file_extension": ".py",
   "mimetype": "text/x-python",
   "name": "python",
   "nbconvert_exporter": "python",
   "pygments_lexer": "ipython3",
   "version": "3.9.6"
  },
  "orig_nbformat": 4,
  "vscode": {
   "interpreter": {
    "hash": "4a642a9a94d05d387b7a27be99b5a4ff6656c8c24931cc81c2f78dd14cfb5dc8"
   }
  }
 },
 "nbformat": 4,
 "nbformat_minor": 2
}
