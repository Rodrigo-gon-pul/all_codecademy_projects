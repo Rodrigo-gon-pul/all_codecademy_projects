{
 "cells": [
  {
   "cell_type": "markdown",
   "metadata": {},
   "source": [
    "# Analyzing Farmburg's A/B Test"
   ]
  },
  {
   "cell_type": "code",
   "execution_count": 1,
   "metadata": {},
   "outputs": [],
   "source": [
    "import pandas as pd\n",
    "import numpy as np"
   ]
  },
  {
   "cell_type": "code",
   "execution_count": 2,
   "metadata": {},
   "outputs": [
    {
     "name": "stdout",
     "output_type": "stream",
     "text": [
      "    user_id group is_purchase\n",
      "0  8e27bf9a     A          No\n",
      "1  eb89e6f0     A          No\n",
      "2  7119106a     A          No\n",
      "3  e53781ff     A          No\n",
      "4  02d48cf1     A         Yes\n"
     ]
    }
   ],
   "source": [
    "# Read in the `clicks.csv` file as `abdata`\n",
    "abdata = pd.read_csv('clicks.csv')\n",
    "\n",
    "# Inspect the dataframe\n",
    "print(abdata.head())"
   ]
  },
  {
   "cell_type": "markdown",
   "metadata": {},
   "source": [
    "We are interested in whether visitors are more likely to make a purchase if they are in any one group compared to the others."
   ]
  },
  {
   "cell_type": "code",
   "execution_count": 3,
   "metadata": {},
   "outputs": [
    {
     "name": "stdout",
     "output_type": "stream",
     "text": [
      "is_purchase    No  Yes\n",
      "group                 \n",
      "A            1350  316\n",
      "B            1483  183\n",
      "C            1583   83\n"
     ]
    }
   ],
   "source": [
    "# Create a contingency table with pd.crosstab\n",
    "Xtab = pd.crosstab(abdata.group, abdata.is_purchase)\n",
    "print(Xtab)"
   ]
  },
  {
   "cell_type": "code",
   "execution_count": 4,
   "metadata": {},
   "outputs": [
    {
     "name": "stdout",
     "output_type": "stream",
     "text": [
      "2.4126213546684264e-35\n"
     ]
    }
   ],
   "source": [
    "# Import chi2_contingency module and calculate p-value\n",
    "from scipy.stats import chi2_contingency\n",
    "chi2, pval, dof, expected = chi2_contingency(Xtab)\n",
    "print(pval)"
   ]
  },
  {
   "cell_type": "markdown",
   "metadata": {},
   "source": [
    "**We can conclude that there is a significant difference in the purchase rate for groups A, B, and C.**"
   ]
  },
  {
   "cell_type": "markdown",
   "metadata": {},
   "source": [
    "Now we want to know is whether each price point allows us to make enough money that we can exceed some target goal.  \n",
    "It’s true that more people wanted to purchase the upgrade at $0.99  \n",
    "we need to generate a minimum of $1000 in revenue per week in order to justify this project.  \n",
    "In order to justify this feature, we will need to calculate the necessary purchase rate for each price point."
   ]
  },
  {
   "cell_type": "code",
   "execution_count": 12,
   "metadata": {},
   "outputs": [
    {
     "name": "stdout",
     "output_type": "stream",
     "text": [
      "4998\n",
      "Purchase rate need at 0.99$: 0.20210104243717691\n",
      "Purchase rate need at 1.99$: 0.10054272965467594\n",
      "Purchase rate need at 4.99$: 0.040096198800161346\n"
     ]
    }
   ],
   "source": [
    "# Calculate and print the number of visits\n",
    "num_visits = len(abdata)\n",
    "print(num_visits)\n",
    "\n",
    "# Calculate the purchase rate needed at 0.99\n",
    "num_sales_needed_099 = 1000/0.99\n",
    "p_sales_needed_099 = num_sales_needed_099/num_visits\n",
    "print('Purchase rate need at 0.99$: {psales}'.format(psales = p_sales_needed_099))\n",
    "\n",
    "# Calculate the purchase rate needed at 1.99\n",
    "num_sales_needed_199 = 1000/1.99\n",
    "p_sales_needed_199 = num_sales_needed_199/num_visits\n",
    "print('Purchase rate need at 1.99$: {psales}'.format(psales = p_sales_needed_199))\n",
    "\n",
    "\n",
    "# Calculate the purchase rate needed at 4.99\n",
    "num_sales_needed_499 = 1000/4.99\n",
    "p_sales_needed_499 = num_sales_needed_499/num_visits\n",
    "print('Purchase rate need at 4.99$: {psales}'.format(psales = p_sales_needed_499))\n",
    "\n"
   ]
  },
  {
   "cell_type": "code",
   "execution_count": 16,
   "metadata": {},
   "outputs": [
    {
     "name": "stdout",
     "output_type": "stream",
     "text": [
      "1666\n",
      "316\n",
      "1666\n",
      "183\n",
      "1666\n",
      "83\n"
     ]
    }
   ],
   "source": [
    "# Calculate samp size & sales for 0.99 price point\n",
    "samp_size_099 = np.sum(abdata.group == 'A')\n",
    "sales_099 = np.sum((abdata.group == 'A') & (abdata.is_purchase == 'Yes'))\n",
    "print(samp_size_099)\n",
    "print(sales_099)\n",
    "\n",
    "# Calculate samp size & sales for 1.99 price point\n",
    "samp_size_199 = np.sum(abdata.group == 'B')\n",
    "sales_199 = np.sum((abdata.group == 'B') & (abdata.is_purchase == 'Yes'))\n",
    "print(samp_size_199)\n",
    "print(sales_199)\n",
    "\n",
    "# Calculate samp size & sales for 4.99 price point\n",
    "samp_size_499 = np.sum(abdata.group == 'C')\n",
    "sales_499 = np.sum((abdata.group == 'C') & (abdata.is_purchase == 'Yes'))\n",
    "print(samp_size_499)\n",
    "print(sales_499)"
   ]
  },
  {
   "cell_type": "markdown",
   "metadata": {},
   "source": [
    "For Group A ($0.99 price point), perform a binomial test using binom_test() to see if the observed purchase rate is significantly greater than p_sales_needed_099"
   ]
  },
  {
   "cell_type": "code",
   "execution_count": 19,
   "metadata": {},
   "outputs": [
    {
     "name": "stdout",
     "output_type": "stream",
     "text": [
      "0.9028081076188554\n",
      "0.11184562623740614\n",
      "0.02794482665983064\n"
     ]
    }
   ],
   "source": [
    "# Import the binom_test module\n",
    "from scipy.stats import binom_test\n",
    "\n",
    "# Calculate the p-value for Group A\n",
    "pvalueA = binom_test(sales_099, n=samp_size_099, p=p_sales_needed_099, alternative='greater')\n",
    "print(pvalueA)\n",
    "\n",
    "# Calculate the p-value for Group B\n",
    "pvalueB = binom_test(sales_199, n=samp_size_199, p=p_sales_needed_199, alternative='greater')\n",
    "print(pvalueB)\n",
    "\n",
    "# Calculate the p-value for Group C\n",
    "pvalueC = binom_test(sales_499, n=samp_size_499, p=p_sales_needed_499, alternative='greater')\n",
    "print(pvalueC)"
   ]
  },
  {
   "cell_type": "markdown",
   "metadata": {},
   "source": [
    "**Alternative Hypothesis: the observed purchase rate is significantly 'greater' than the purchase rate that results in the minimum revenue target.**"
   ]
  },
  {
   "cell_type": "markdown",
   "metadata": {},
   "source": [
    "The chosen price group is 4.99$"
   ]
  }
 ],
 "metadata": {
  "kernelspec": {
   "display_name": "Python 3.9.6 64-bit",
   "language": "python",
   "name": "python3"
  },
  "language_info": {
   "codemirror_mode": {
    "name": "ipython",
    "version": 3
   },
   "file_extension": ".py",
   "mimetype": "text/x-python",
   "name": "python",
   "nbconvert_exporter": "python",
   "pygments_lexer": "ipython3",
   "version": "3.9.6"
  },
  "orig_nbformat": 4,
  "vscode": {
   "interpreter": {
    "hash": "4a642a9a94d05d387b7a27be99b5a4ff6656c8c24931cc81c2f78dd14cfb5dc8"
   }
  }
 },
 "nbformat": 4,
 "nbformat_minor": 2
}
